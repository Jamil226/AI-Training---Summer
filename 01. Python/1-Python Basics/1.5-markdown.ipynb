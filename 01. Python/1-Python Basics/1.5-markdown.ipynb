{
 "cells": [
  {
   "cell_type": "markdown",
   "id": "a4a14ba7",
   "metadata": {},
   "source": [
    "# Markdown Practice\n",
    "\n",
    "## Markdown Heading 2\n",
    "\n",
    "This is markdown testing.\n",
    "\n",
    "1. Numeric List item 1\n",
    "\n",
    "1. Numeric List item 2\n",
    "\n",
    "1. Numeric List item 3"
   ]
  }
 ],
 "metadata": {
  "kernelspec": {
   "display_name": "base",
   "language": "python",
   "name": "python3"
  },
  "language_info": {
   "name": "python",
   "version": "3.13.5"
  }
 },
 "nbformat": 4,
 "nbformat_minor": 5
}
