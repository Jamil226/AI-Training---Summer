{
 "cells": [
  {
   "cell_type": "markdown",
   "id": "dec57acb",
   "metadata": {},
   "source": [
    "# Docstring\n",
    "### A docstring is a string literal that appears as the first statement in a module, function, class, or method.\n",
    "\n",
    "- It is used for documentation.\n",
    "\n",
    "- Defined using triple quotes: ''' or \"\"\".\n",
    "\n"
   ]
  },
  {
   "cell_type": "code",
   "execution_count": 1,
   "id": "fd17b59d",
   "metadata": {},
   "outputs": [
    {
     "name": "stdout",
     "output_type": "stream",
     "text": [
      "This adds two numbers.\n"
     ]
    }
   ],
   "source": [
    "def add(a, b):\n",
    "\t\"\"\"This adds two numbers.\"\"\"\n",
    "\treturn a + b\n",
    "\n",
    "print(add.__doc__)  # Output: This adds two numbers.\n"
   ]
  },
  {
   "cell_type": "markdown",
   "id": "8eb8c663",
   "metadata": {},
   "source": [
    "# Multiline Comments\n",
    "### Docstrings are for Python to document your code, while multiline comments are for you and other developers to understand it."
   ]
  },
  {
   "cell_type": "code",
   "execution_count": null,
   "id": "38727128",
   "metadata": {},
   "outputs": [],
   "source": [
    "'''\n",
    "This is just a multiline comment.\n",
    "Python ignores it like any comment.\n",
    "'''\n",
    "\n",
    "# Same as:\n",
    "# This is a comment\n",
    "# spread over\n",
    "# multiple lines\n"
   ]
  }
 ],
 "metadata": {
  "kernelspec": {
   "display_name": "base",
   "language": "python",
   "name": "python3"
  },
  "language_info": {
   "codemirror_mode": {
    "name": "ipython",
    "version": 3
   },
   "file_extension": ".py",
   "mimetype": "text/x-python",
   "name": "python",
   "nbconvert_exporter": "python",
   "pygments_lexer": "ipython3",
   "version": "3.13.5"
  }
 },
 "nbformat": 4,
 "nbformat_minor": 5
}
