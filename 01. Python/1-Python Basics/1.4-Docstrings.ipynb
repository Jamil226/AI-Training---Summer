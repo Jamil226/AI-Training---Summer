{
 "cells": [
  {
   "cell_type": "markdown",
   "id": "dec57acb",
   "metadata": {},
   "source": [
    "# Docstring\n",
    "### A docstring is a string literal that appears as the first statement in a module, function, class, or method.\n",
    "\n",
    "- It is used for documentation.\n",
    "\n",
    "- Defined using triple quotes: ''' or \"\"\".\n",
    "\n",
    "- Goes at the top of a function, class, or module.\n",
    "\n",
    "- Python recognizes it and stores it as part of the object.\n",
    "\n",
    "- You can access it later using help() or .__doc__.\n",
    "\n"
   ]
  },
  {
   "cell_type": "code",
   "execution_count": 3,
   "id": "fd17b59d",
   "metadata": {},
   "outputs": [
    {
     "name": "stdout",
     "output_type": "stream",
     "text": [
      "Sum of 2 numbers.\n"
     ]
    }
   ],
   "source": [
    "def add(a, b):\n",
    "\t\"\"\"Sum of 2 numbers.\"\"\"\n",
    "\treturn a + b\n",
    "\n",
    "print(add.__doc__)\n",
    "\n"
   ]
  },
  {
   "cell_type": "markdown",
   "id": "8eb8c663",
   "metadata": {},
   "source": [
    "# Multiline Comments\n",
    "### Docstrings are for Python to document your code, while multiline comments are for you and other developers to understand it."
   ]
  },
  {
   "cell_type": "code",
   "execution_count": null,
   "id": "8b459be9",
   "metadata": {},
   "outputs": [],
   "source": []
  },
  {
   "cell_type": "code",
   "execution_count": null,
   "id": "38727128",
   "metadata": {},
   "outputs": [],
   "source": [
    "'''\n",
    "This is just a multiline comment.\n",
    "Python ignores it like any comment.\n",
    "'''\n",
    "\n",
    "# Same as:\n",
    "# This is a comment\n",
    "# spread over\n",
    "# multiple lines\n"
   ]
  },
  {
   "cell_type": "code",
   "execution_count": null,
   "id": "58119354",
   "metadata": {},
   "outputs": [],
   "source": [
    "# This is testing\n",
    "\n",
    "# This is testing\n",
    "# This is testing\n",
    "# This is testing\n",
    "# This is testing\n",
    "\n"
   ]
  },
  {
   "cell_type": "code",
   "execution_count": null,
   "id": "58058893",
   "metadata": {},
   "outputs": [],
   "source": []
  },
  {
   "cell_type": "code",
   "execution_count": null,
   "id": "cf41725f",
   "metadata": {},
   "outputs": [],
   "source": []
  },
  {
   "cell_type": "code",
   "execution_count": null,
   "id": "4944d479",
   "metadata": {},
   "outputs": [],
   "source": []
  },
  {
   "cell_type": "code",
   "execution_count": null,
   "id": "9c5d64b3",
   "metadata": {},
   "outputs": [],
   "source": []
  },
  {
   "cell_type": "code",
   "execution_count": null,
   "id": "d55f7d56",
   "metadata": {},
   "outputs": [],
   "source": []
  }
 ],
 "metadata": {
  "kernelspec": {
   "display_name": "base",
   "language": "python",
   "name": "python3"
  },
  "language_info": {
   "codemirror_mode": {
    "name": "ipython",
    "version": 3
   },
   "file_extension": ".py",
   "mimetype": "text/x-python",
   "name": "python",
   "nbconvert_exporter": "python",
   "pygments_lexer": "ipython3",
   "version": "3.13.5"
  }
 },
 "nbformat": 4,
 "nbformat_minor": 5
}
