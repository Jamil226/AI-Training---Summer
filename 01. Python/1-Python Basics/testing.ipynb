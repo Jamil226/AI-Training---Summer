{
 "cells": [
  {
   "cell_type": "code",
   "execution_count": 2,
   "id": "20e8eba1",
   "metadata": {},
   "outputs": [
    {
     "name": "stdout",
     "output_type": "stream",
     "text": [
      "Hello World\n",
      "Hello World 1\n"
     ]
    }
   ],
   "source": [
    "print(\"Hello World\")\n",
    "print(\"Hello World 1\")\n"
   ]
  },
  {
   "cell_type": "code",
   "execution_count": 1,
   "id": "21e585b9",
   "metadata": {},
   "outputs": [
    {
     "name": "stdout",
     "output_type": "stream",
     "text": [
      "This adds two numbers.\n"
     ]
    }
   ],
   "source": [
    "def add(a, b):\n",
    "\t\"\"\"This adds two numbers.\"\"\"\n",
    "\treturn a + b\n",
    "\n",
    "print(add.__doc__) "
   ]
  }
 ],
 "metadata": {
  "kernelspec": {
   "display_name": "base",
   "language": "python",
   "name": "python3"
  },
  "language_info": {
   "codemirror_mode": {
    "name": "ipython",
    "version": 3
   },
   "file_extension": ".py",
   "mimetype": "text/x-python",
   "name": "python",
   "nbconvert_exporter": "python",
   "pygments_lexer": "ipython3",
   "version": "3.13.5"
  }
 },
 "nbformat": 4,
 "nbformat_minor": 5
}
