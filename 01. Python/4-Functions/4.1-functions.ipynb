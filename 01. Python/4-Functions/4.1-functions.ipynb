{
 "cells": [
  {
   "cell_type": "markdown",
   "metadata": {},
   "source": [
    "#### Functions in Python\n",
    "Outline:\n",
    "1. Introduction to Functions\n",
    "2. Defining Functions\n",
    "3. Calling Functions\n",
    "4. Function Parameters\n",
    "5. Default Parameters\n",
    "6. Variable-Length Arguments\n",
    "7. Return Statement"
   ]
  },
  {
   "cell_type": "markdown",
   "metadata": {},
   "source": [
    "##### Introduction to Functions\n",
    "Definition:\n",
    "\n",
    "A function is a block of code that performs a specific task.\n",
    "Functions help in organizing code, reusing code, and improving readability.\n",
    "\n"
   ]
  },
  {
   "cell_type": "code",
   "execution_count": 1,
   "metadata": {},
   "outputs": [],
   "source": [
    "## syntax\n",
    "def function_name(parameters):\n",
    "    \"\"\"Docstring\"\"\"\n",
    "    # Function body\n",
    "    return expression\n"
   ]
  },
  {
   "cell_type": "code",
   "execution_count": null,
   "metadata": {},
   "outputs": [
    {
     "name": "stdout",
     "output_type": "stream",
     "text": [
      "the number is even\n"
     ]
    }
   ],
   "source": [
    "## why functions?\n",
    "num = 24\n",
    "if num%2==0:\n",
    "    print(\"the number is even\")\n",
    "else:\n",
    "    print(\"the number is odd\")"
   ]
  },
  {
   "cell_type": "code",
   "execution_count": 5,
   "metadata": {},
   "outputs": [],
   "source": [
    "def even_or_odd(num):\n",
    "    \"\"\"This function finds even or odd\"\"\"\n",
    "    if num%2==0:\n",
    "        print(\"the number is even\")\n",
    "    else:\n",
    "        print(\"the number is odd\")\n"
   ]
  },
  {
   "cell_type": "code",
   "execution_count": 6,
   "metadata": {},
   "outputs": [
    {
     "name": "stdout",
     "output_type": "stream",
     "text": [
      "the number is even\n"
     ]
    }
   ],
   "source": [
    "## Call this function\n",
    "even_or_odd(24)"
   ]
  },
  {
   "cell_type": "code",
   "execution_count": 1,
   "metadata": {},
   "outputs": [
    {
     "name": "stdout",
     "output_type": "stream",
     "text": [
      "6\n"
     ]
    }
   ],
   "source": [
    "## function with multiple parameters\n",
    "\n",
    "def add(a, b):\n",
    "    return a + b\n",
    "\n",
    "result = add(2, 4)\n",
    "print(result)\n",
    "    "
   ]
  },
  {
   "cell_type": "markdown",
   "metadata": {},
   "source": [
    "### f-string\n",
    "\n",
    "The f before the string is used to create an f-string, which stands for formatted string literal\n",
    "\n",
    "It allows you to embed variables or expressions directly inside a string using {}.\n",
    "\n"
   ]
  },
  {
   "cell_type": "code",
   "execution_count": 11,
   "metadata": {},
   "outputs": [
    {
     "name": "stdout",
     "output_type": "stream",
     "text": [
      "Hello Jamil, Welcome To CUI Sahiwal\n"
     ]
    }
   ],
   "source": [
    "## Default Parameters\n",
    "\n",
    "def greet(name):\n",
    "    print(f\"Hello {name}, Welcome To CUI Sahiwal\")\n",
    "\n",
    "greet(\"Jamil\")\n"
   ]
  },
  {
   "cell_type": "code",
   "execution_count": 12,
   "metadata": {},
   "outputs": [
    {
     "ename": "TypeError",
     "evalue": "greet() missing 1 required positional argument: 'name'",
     "output_type": "error",
     "traceback": [
      "\u001b[31m---------------------------------------------------------------------------\u001b[39m",
      "\u001b[31mTypeError\u001b[39m                                 Traceback (most recent call last)",
      "\u001b[36mCell\u001b[39m\u001b[36m \u001b[39m\u001b[32mIn[12]\u001b[39m\u001b[32m, line 1\u001b[39m\n\u001b[32m----> \u001b[39m\u001b[32m1\u001b[39m \u001b[43mgreet\u001b[49m\u001b[43m(\u001b[49m\u001b[43m)\u001b[49m\n",
      "\u001b[31mTypeError\u001b[39m: greet() missing 1 required positional argument: 'name'"
     ]
    }
   ],
   "source": [
    "greet()"
   ]
  },
  {
   "cell_type": "code",
   "execution_count": 13,
   "metadata": {},
   "outputs": [
    {
     "name": "stdout",
     "output_type": "stream",
     "text": [
      "Hello Guest Welcome to CUI Sahiwal\n"
     ]
    }
   ],
   "source": [
    "def welcome(name = \"Guest\"):\n",
    "    print(f\"Hello {name} Welcome to CUI Sahiwal\")\n",
    "\n",
    "welcome()"
   ]
  },
  {
   "cell_type": "code",
   "execution_count": null,
   "metadata": {},
   "outputs": [],
   "source": [
    "### Variable Length Arguments (variadic arguments)\n",
    "## Positional And Keywords arguments\n",
    "\n",
    "## I have a function with many many parameters\n",
    "\n",
    "# def print_numbers(num1, num2, num3, num4, num5, num6):\n",
    "#     for number in jamil:\n",
    "#         print(number)\n",
    "\n",
    "## Here we will use *args\n",
    "\n",
    "def print_numbers(*args):\n",
    "    for number in args:\n",
    "        print(number)"
   ]
  },
  {
   "cell_type": "code",
   "execution_count": 20,
   "metadata": {},
   "outputs": [
    {
     "name": "stdout",
     "output_type": "stream",
     "text": [
      "1\n",
      "2\n",
      "3\n",
      "4\n",
      "5\n",
      "6\n",
      "7\n",
      "8\n",
      "Jamil\n"
     ]
    }
   ],
   "source": [
    "print_numbers(1,2,3,4,5,6,7,8,\"Jamil\")"
   ]
  },
  {
   "cell_type": "code",
   "execution_count": 24,
   "metadata": {},
   "outputs": [
    {
     "name": "stdout",
     "output_type": "stream",
     "text": [
      "1\n",
      "2\n",
      "3\n",
      "4\n",
      "5\n",
      "6\n",
      "7\n",
      "8\n",
      "9\n"
     ]
    }
   ],
   "source": [
    "print_numbers(1,2,3,4,5,6,7,8,9)"
   ]
  },
  {
   "cell_type": "code",
   "execution_count": 28,
   "metadata": {},
   "outputs": [],
   "source": [
    "### Keywords Arguments\n",
    "## In Keywords Arguments all the parameters will be in the form of key-value pairs.\n",
    "def print_details(**kwargs):\n",
    "    for key, value in kwargs.items():\n",
    "        print(f\"{key}:{value}\")"
   ]
  },
  {
   "cell_type": "code",
   "execution_count": 30,
   "metadata": {},
   "outputs": [
    {
     "name": "stdout",
     "output_type": "stream",
     "text": [
      "name:Jamil\n",
      "age:30\n",
      "country:Pakistan\n"
     ]
    }
   ],
   "source": [
    "print_details(name=\"Jamil\", age=\"30\", country=\"Pakistan\")"
   ]
  },
  {
   "cell_type": "code",
   "execution_count": 33,
   "metadata": {},
   "outputs": [],
   "source": [
    "def print_details(*args, **kwargs):\n",
    "    for val in args:\n",
    "        print(f\" Positional arument :{val}\")\n",
    "    \n",
    "    for key,value in kwargs.items():\n",
    "        print(f\"{key}:{value}\")"
   ]
  },
  {
   "cell_type": "code",
   "execution_count": 34,
   "metadata": {},
   "outputs": [
    {
     "name": "stdout",
     "output_type": "stream",
     "text": [
      " Positional arument :1\n",
      " Positional arument :2\n",
      " Positional arument :3\n",
      " Positional arument :4\n",
      " Positional arument :Testing\n",
      "name:Muhammad\n",
      "age:30\n",
      "country:Pakistan\n"
     ]
    }
   ],
   "source": [
    "print_details(1,2,3,4,\"Testing\", name=\"Muhammad\",age=\"30\",country=\"Pakistan\")"
   ]
  },
  {
   "cell_type": "code",
   "execution_count": 35,
   "metadata": {},
   "outputs": [
    {
     "data": {
      "text/plain": [
       "6"
      ]
     },
     "execution_count": 35,
     "metadata": {},
     "output_type": "execute_result"
    }
   ],
   "source": [
    "### Return statements\n",
    "def multiply(a,b):\n",
    "    return a * b\n",
    "\n",
    "multiply(2,3)"
   ]
  },
  {
   "cell_type": "code",
   "execution_count": 37,
   "metadata": {},
   "outputs": [
    {
     "data": {
      "text/plain": [
       "(6, 2)"
      ]
     },
     "execution_count": 37,
     "metadata": {},
     "output_type": "execute_result"
    }
   ],
   "source": [
    "### Return multiple parameters\n",
    "def multiply(a,b):\n",
    "    return a * b, a\n",
    "\n",
    "multiply(2,3)"
   ]
  },
  {
   "cell_type": "code",
   "execution_count": null,
   "metadata": {},
   "outputs": [],
   "source": []
  }
 ],
 "metadata": {
  "kernelspec": {
   "display_name": "base",
   "language": "python",
   "name": "python3"
  },
  "language_info": {
   "codemirror_mode": {
    "name": "ipython",
    "version": 3
   },
   "file_extension": ".py",
   "mimetype": "text/x-python",
   "name": "python",
   "nbconvert_exporter": "python",
   "pygments_lexer": "ipython3",
   "version": "3.13.5"
  }
 },
 "nbformat": 4,
 "nbformat_minor": 2
}
