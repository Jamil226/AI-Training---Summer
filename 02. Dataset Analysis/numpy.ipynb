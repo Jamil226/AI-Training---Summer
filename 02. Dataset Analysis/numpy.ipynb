{
  "cells": [
    {
      "cell_type": "markdown",
      "metadata": {
        "id": "wSW12q21JT9O"
      },
      "source": [
        "#**Numpy Array**"
      ]
    },
    {
      "cell_type": "code",
      "execution_count": null,
      "metadata": {
        "colab": {
          "base_uri": "https://localhost:8080/"
        },
        "id": "gEhGuioZEIuh",
        "outputId": "f296dd50-b00e-4bf8-92e6-80151f436969"
      },
      "outputs": [
        {
          "name": "stdout",
          "output_type": "stream",
          "text": [
            "Requirement already satisfied: numpy in /opt/miniconda3/lib/python3.13/site-packages (2.2.6)\n"
          ]
        }
      ],
      "source": [
        "!pip install numpy"
      ]
    },
    {
      "cell_type": "code",
      "execution_count": 3,
      "metadata": {
        "id": "VM2up9pXEM_T"
      },
      "outputs": [],
      "source": [
        "import numpy as np"
      ]
    },
    {
      "cell_type": "code",
      "execution_count": 4,
      "metadata": {
        "colab": {
          "base_uri": "https://localhost:8080/"
        },
        "id": "3G8BMj-vERBj",
        "outputId": "96b0a472-7214-4a09-8799-14b64e043dcc"
      },
      "outputs": [
        {
          "name": "stdout",
          "output_type": "stream",
          "text": [
            "[1 2 3 4]\n"
          ]
        }
      ],
      "source": [
        "x = np.array([1,2,3,4])\n",
        "print(x)\n"
      ]
    },
    {
      "cell_type": "code",
      "execution_count": 5,
      "metadata": {
        "colab": {
          "base_uri": "https://localhost:8080/"
        },
        "id": "6W5D-VsTJoM0",
        "outputId": "faf5b0c5-3c35-4353-87ca-59c6d86ded8c"
      },
      "outputs": [
        {
          "name": "stdout",
          "output_type": "stream",
          "text": [
            "[1, 2, 3, 4]\n"
          ]
        }
      ],
      "source": [
        "myList = [1,2,3,4]\n",
        "print(myList)\n"
      ]
    },
    {
      "cell_type": "code",
      "execution_count": 10,
      "metadata": {
        "colab": {
          "base_uri": "https://localhost:8080/"
        },
        "id": "IgUi5CxBEo_b",
        "outputId": "f5673bf2-fea1-4640-b283-60694d034d49"
      },
      "outputs": [
        {
          "name": "stdout",
          "output_type": "stream",
          "text": [
            "<class 'numpy.ndarray'>\n"
          ]
        }
      ],
      "source": [
        "print(type(x))\n"
      ]
    },
    {
      "cell_type": "code",
      "execution_count": 11,
      "metadata": {
        "colab": {
          "base_uri": "https://localhost:8080/"
        },
        "id": "U7ycvcCJJj4l",
        "outputId": "026d6897-c6ca-4103-9b77-f490d98ae619"
      },
      "outputs": [
        {
          "name": "stdout",
          "output_type": "stream",
          "text": [
            "<class 'list'>\n"
          ]
        }
      ],
      "source": [
        "print(type(myList))"
      ]
    },
    {
      "cell_type": "code",
      "execution_count": 6,
      "metadata": {
        "colab": {
          "base_uri": "https://localhost:8080/"
        },
        "id": "HO4VDW3cE03x",
        "outputId": "ea8aca8c-c5b9-43be-cbd9-8408a4c3dda4"
      },
      "outputs": [
        {
          "name": "stdout",
          "output_type": "stream",
          "text": [
            "287 ns ± 1.82 ns per loop (mean ± std. dev. of 7 runs, 1,000,000 loops each)\n"
          ]
        }
      ],
      "source": [
        "%timeit [j**4 for j in range(1,9)] # 1, 16, 81, 256, 625, 1296, 2401, 4096"
      ]
    },
    {
      "cell_type": "code",
      "execution_count": 7,
      "metadata": {
        "colab": {
          "base_uri": "https://localhost:8080/"
        },
        "id": "G6n0qbRWIPV-",
        "outputId": "8e86179d-edec-44d8-825e-04126d7f3830"
      },
      "outputs": [
        {
          "name": "stdout",
          "output_type": "stream",
          "text": [
            "844 ns ± 11.2 ns per loop (mean ± std. dev. of 7 runs, 1,000,000 loops each)\n"
          ]
        }
      ],
      "source": [
        "%timeit np.arange(1,9)**4"
      ]
    },
    {
      "cell_type": "code",
      "execution_count": 15,
      "metadata": {
        "colab": {
          "base_uri": "https://localhost:8080/"
        },
        "id": "XGWTTiJZkdWM",
        "outputId": "b1c78bf9-40b6-4719-cc02-f78f915a849f"
      },
      "outputs": [
        {
          "name": "stdout",
          "output_type": "stream",
          "text": [
            "Enter Any Number33\n",
            "33\n"
          ]
        }
      ],
      "source": [
        "myInput = int(input(\"Enter Any Number\"))\n",
        "print(myInput)"
      ]
    },
    {
      "cell_type": "code",
      "execution_count": 16,
      "metadata": {
        "colab": {
          "base_uri": "https://localhost:8080/"
        },
        "id": "UhLQUetxktt7",
        "outputId": "e5deff82-5b18-4c74-d816-63cde9a3d7a6"
      },
      "outputs": [
        {
          "name": "stdout",
          "output_type": "stream",
          "text": [
            "<class 'int'>\n"
          ]
        }
      ],
      "source": [
        "print(type(myInput))"
      ]
    },
    {
      "cell_type": "markdown",
      "metadata": {
        "id": "i6Q83jt7Kjzx"
      },
      "source": [
        "#**Initialization of the list**\n",
        "Here, an empty list called listValues is created.\n",
        "This list will store the integer values entered by the user.\n",
        "This for loop runs 4 times (from 1 to 4), as the range(1, 5) function generates numbers from 1 to 4. Each time the loop runs, the user will be prompted to enter a value.\n",
        "\n",
        "#**Input and Append**\n",
        "\n",
        "*   In each iteration of the loop, the program prompts the user to enter an integer value.\n",
        "\n",
        "*   The entered value is converted from a string to an integer using int().\n",
        "\n",
        "*   The integer is then added (appended) to the values list using append().\n",
        "\n",
        "#**Converting the List to a NumPy Array**\n",
        "\n",
        "*   Finally, after all 4 values are entered, the list values is converted into a NumPy array using np.array().\n",
        "*   The array is then printed to the screen."
      ]
    },
    {
      "cell_type": "code",
      "execution_count": 12,
      "metadata": {
        "colab": {
          "base_uri": "https://localhost:8080/"
        },
        "id": "VfJGjafaIhAy",
        "outputId": "9e4183b9-4d67-40c0-87b3-661722e2af66"
      },
      "outputs": [
        {
          "name": "stdout",
          "output_type": "stream",
          "text": [
            "[33, 22, 33, 22]\n"
          ]
        }
      ],
      "source": [
        "listValues = []\n",
        "for i in range(1, 5):\n",
        "    getInputValue = int(input(\"Enter: \"))\n",
        "    listValues.append(getInputValue)\n",
        "\n",
        "print(listValues)\n"
      ]
    },
    {
      "cell_type": "code",
      "execution_count": 13,
      "metadata": {
        "colab": {
          "base_uri": "https://localhost:8080/"
        },
        "id": "XPi17FwYmhaU",
        "outputId": "863f2629-90b8-4aad-a35b-0c7d4ec6a13e"
      },
      "outputs": [
        {
          "name": "stdout",
          "output_type": "stream",
          "text": [
            "[33 22 33 22]\n"
          ]
        }
      ],
      "source": [
        "print(np.array(listValues))"
      ]
    },
    {
      "cell_type": "markdown",
      "metadata": {
        "id": "LISGfJA6MaPk"
      },
      "source": [
        "#**Weekly Temperature Analysis Using NumPy**"
      ]
    },
    {
      "cell_type": "code",
      "execution_count": 9,
      "metadata": {
        "colab": {
          "base_uri": "https://localhost:8080/"
        },
        "id": "3n0CXhtaKJT3",
        "outputId": "705af7ee-8ccf-40e4-a620-d2eb9268ab85"
      },
      "outputs": [
        {
          "name": "stdout",
          "output_type": "stream",
          "text": [
            "Temperatures over the week: [36 49 34 42 46 38 33]\n",
            "Average temperature: 39.71\n"
          ]
        }
      ],
      "source": [
        "\n",
        "temperatures = np.array([36, 49, 34, 42, 46, 38, 33])\n",
        "\n",
        "average_temp = np.mean(temperatures)\n",
        "\n",
        "print(\"Temperatures over the week:\", temperatures)\n",
        "print(f\"Average temperature: {average_temp:.2f}\")"
      ]
    },
    {
      "cell_type": "markdown",
      "metadata": {
        "id": "LMNrpyHlNFo2"
      },
      "source": [
        "#**Weekly Sales Data Analysis Using NumPy**"
      ]
    },
    {
      "cell_type": "code",
      "execution_count": 25,
      "metadata": {
        "colab": {
          "base_uri": "https://localhost:8080/"
        },
        "id": "sxozA2y2M5vP",
        "outputId": "410a73d2-90b7-4b09-b83e-58f743d1b076"
      },
      "outputs": [
        {
          "name": "stdout",
          "output_type": "stream",
          "text": [
            "Average daily sales: PKR 188.57\n",
            "Total sales for the week: PKR 1320.00\n",
            "Maximum sales in a day: PKR 220.00\n",
            "Minimum sales in a day: PKR 150.00\n",
            "Standard deviation of sales: PKR 22.31\n",
            "Variance of sales: PKR 497.96\n",
            "Cumulative sales for the week: [ 150  350  520  740  920 1110 1320]\n"
          ]
        }
      ],
      "source": [
        "\n",
        "daily_sales = np.array([150, 200, 170, 220, 180, 190, 210])\n",
        "\n",
        "average_sales = np.mean(daily_sales)\n",
        "print(f\"Average daily sales: PKR {average_sales:.2f}\")\n",
        "\n",
        "total_sales = np.sum(daily_sales)\n",
        "print(f\"Total sales for the week: PKR {total_sales:.2f}\")\n",
        "\n",
        "max_sales = np.max(daily_sales)\n",
        "min_sales = np.min(daily_sales)\n",
        "print(f\"Maximum sales in a day: PKR {max_sales:.2f}\")\n",
        "print(f\"Minimum sales in a day: PKR {min_sales:.2f}\")\n",
        "\n",
        "std_sales = np.std(daily_sales)\n",
        "print(f\"Standard deviation of sales: PKR {std_sales:.2f}\")\n",
        "\n",
        "variance_sales = np.var(daily_sales)\n",
        "print(f\"Variance of sales: PKR {variance_sales:.2f}\")\n",
        "\n",
        "cumulative_sales = np.cumsum(daily_sales)\n",
        "print(\"Cumulative sales for the week:\", cumulative_sales)\n"
      ]
    },
    {
      "cell_type": "markdown",
      "metadata": {
        "id": "HgpGJs_OMTnq"
      },
      "source": [
        "#**What is a 2D Array?**\n",
        "A 2D array (or two-dimensional array) is an array of arrays, which can be thought of as a table with rows and columns. Each element in the 2D array can be accessed using two indices: one for the row and one for the column.\n",
        "\n",
        "#**Grocery Store Inventory Analysis**"
      ]
    },
    {
      "cell_type": "code",
      "execution_count": null,
      "metadata": {
        "colab": {
          "base_uri": "https://localhost:8080/"
        },
        "id": "iwuucrwROAXE",
        "outputId": "b321c8bf-4059-4d8d-aa79-371512edfcc9"
      },
      "outputs": [
        {
          "name": "stdout",
          "output_type": "stream",
          "text": [
            "Total quantity of products in stock: 650.0\n",
            "Total value of inventory (in PKR): 29700.00\n",
            "Average price of products (in PKR): 49.00\n",
            "\n",
            "Grocery Store Inventory:\n",
            "Product 1: Price: PKR 50.00, Quantity: 100.0\n",
            "Product 2: Price: PKR 30.00, Quantity: 150.0\n",
            "Product 3: Price: PKR 40.00, Quantity: 120.0\n",
            "Product 4: Price: PKR 80.00, Quantity: 80.0\n",
            "Product 5: Price: PKR 45.00, Quantity: 200.0\n"
          ]
        }
      ],
      "source": [
        "inventory = np.array([\n",
        "    [50.0, 100],  # Product 1: Price 50 PKR, Quantity 100\n",
        "    [30.0, 150],  # Product 2: Price 30 PKR, Quantity 150\n",
        "    [40.0, 120],  # Product 3: Price 40 PKR, Quantity 120\n",
        "    [80.0, 80],   # Product 4: Price 80 PKR, Quantity 80\n",
        "    [45.0, 200]   # Product 5: Price 45 PKR, Quantity 200\n",
        "])\n",
        "\n",
        "# Slicing of arrary\n",
        "\n",
        "total_quantity = np.sum(inventory[:, 1])\n",
        "print(f\"Total quantity of products in stock: {total_quantity}\")\n",
        "\n",
        "\n",
        "total_value = np.sum(inventory[:, 0] * inventory[:, 1])\n",
        "print(f\"Total value of inventory (in PKR): {total_value:.2f}\")\n",
        "\n",
        "\n",
        "average_price = np.mean(inventory[:, 0])\n",
        "print(f\"Average price of products (in PKR): {average_price:.2f}\")\n",
        "\n",
        "\n",
        "print(\"\\nGrocery Store Inventory:\")\n",
        "for i, item in enumerate(inventory, start=1):\n",
        "    print(f\"Product {i}: Price: PKR {item[0]:.2f}, Quantity: {item[1]}\")\n"
      ]
    },
    {
      "cell_type": "markdown",
      "metadata": {
        "id": "CoMHQDPrO9o9"
      },
      "source": []
    },
    {
      "cell_type": "code",
      "execution_count": null,
      "metadata": {
        "id": "yNRrHufiOPTP"
      },
      "outputs": [],
      "source": []
    }
  ],
  "metadata": {
    "colab": {
      "provenance": []
    },
    "kernelspec": {
      "display_name": "base",
      "language": "python",
      "name": "python3"
    },
    "language_info": {
      "codemirror_mode": {
        "name": "ipython",
        "version": 3
      },
      "file_extension": ".py",
      "mimetype": "text/x-python",
      "name": "python",
      "nbconvert_exporter": "python",
      "pygments_lexer": "ipython3",
      "version": "3.13.5"
    }
  },
  "nbformat": 4,
  "nbformat_minor": 0
}
