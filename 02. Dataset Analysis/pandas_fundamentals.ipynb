{
  "cells": [
    {
      "cell_type": "markdown",
      "metadata": {
        "id": "ZbP0-ytSYUkl"
      },
      "source": [
        "**Pandas Library Installation Command**"
      ]
    },
    {
      "cell_type": "code",
      "execution_count": 2,
      "metadata": {
        "colab": {
          "base_uri": "https://localhost:8080/"
        },
        "id": "nvYsW6FqI12G",
        "outputId": "9b7bc7d7-aa38-47ab-9a90-3fc646295a98"
      },
      "outputs": [
        {
          "name": "stdout",
          "output_type": "stream",
          "text": [
            "Collecting pandas\n",
            "  Using cached pandas-2.3.1-cp313-cp313-macosx_11_0_arm64.whl.metadata (91 kB)\n",
            "Requirement already satisfied: numpy>=1.26.0 in /opt/miniconda3/lib/python3.13/site-packages (from pandas) (2.3.2)\n",
            "Requirement already satisfied: python-dateutil>=2.8.2 in /opt/miniconda3/lib/python3.13/site-packages (from pandas) (2.9.0.post0)\n",
            "Collecting pytz>=2020.1 (from pandas)\n",
            "  Using cached pytz-2025.2-py2.py3-none-any.whl.metadata (22 kB)\n",
            "Collecting tzdata>=2022.7 (from pandas)\n",
            "  Using cached tzdata-2025.2-py2.py3-none-any.whl.metadata (1.4 kB)\n",
            "Requirement already satisfied: six>=1.5 in /opt/miniconda3/lib/python3.13/site-packages (from python-dateutil>=2.8.2->pandas) (1.17.0)\n",
            "Downloading pandas-2.3.1-cp313-cp313-macosx_11_0_arm64.whl (10.7 MB)\n",
            "\u001b[2K   \u001b[90m━━━━━━━━━━━━━━━━━━━━━━━━━━━━━━━━━━━━━━━━\u001b[0m \u001b[32m10.7/10.7 MB\u001b[0m \u001b[31m4.3 MB/s\u001b[0m eta \u001b[36m0:00:00\u001b[0ma \u001b[36m0:00:01\u001b[0m\n",
            "\u001b[?25hUsing cached pytz-2025.2-py2.py3-none-any.whl (509 kB)\n",
            "Using cached tzdata-2025.2-py2.py3-none-any.whl (347 kB)\n",
            "Installing collected packages: pytz, tzdata, pandas\n",
            "\u001b[2K   \u001b[90m━━━━━━━━━━━━━━━━━━━━━━━━━━━━━━━━━━━━━━━━\u001b[0m \u001b[32m3/3\u001b[0m [pandas]2m2/3\u001b[0m [pandas]\n",
            "\u001b[1A\u001b[2KSuccessfully installed pandas-2.3.1 pytz-2025.2 tzdata-2025.2\n"
          ]
        }
      ],
      "source": [
        "!pip install pandas"
      ]
    },
    {
      "cell_type": "markdown",
      "metadata": {
        "id": "wx-YRLyIYSUn"
      },
      "source": []
    },
    {
      "cell_type": "markdown",
      "metadata": {
        "id": "jeQia6tpYKCo"
      },
      "source": [
        "**Importing Pandas Library**"
      ]
    },
    {
      "cell_type": "code",
      "execution_count": 3,
      "metadata": {
        "colab": {
          "base_uri": "https://localhost:8080/"
        },
        "id": "VCs_lif7I8Ry",
        "outputId": "d57876b6-74db-4ee6-c368-9f2a12e44785"
      },
      "outputs": [
        {
          "name": "stdout",
          "output_type": "stream",
          "text": [
            "a    10\n",
            "b    20\n",
            "c    30\n",
            "dtype: int64\n"
          ]
        }
      ],
      "source": [
        "import pandas as pd\n",
        "series = pd.Series([10, 20, 30], index = ['a', 'b', 'c'])\n",
        "print (series)"
      ]
    },
    {
      "cell_type": "code",
      "execution_count": 4,
      "metadata": {
        "colab": {
          "base_uri": "https://localhost:8080/"
        },
        "id": "37WMedlkJNtO",
        "outputId": "2d31a883-ad87-49f8-e33b-dd221c8c19f4"
      },
      "outputs": [
        {
          "name": "stdout",
          "output_type": "stream",
          "text": [
            "      Name  Age\n",
            "0    Alice   25\n",
            "1      Bob    0\n",
            "2  Charlie   35\n"
          ]
        }
      ],
      "source": [
        "data = {'Name': ['Alice', 'Bob', 'Charlie'], 'Age': [25, 0, 35]}\n",
        "df = pd. DataFrame (data)\n",
        "print (df)"
      ]
    },
    {
      "cell_type": "code",
      "execution_count": 5,
      "metadata": {
        "colab": {
          "base_uri": "https://localhost:8080/"
        },
        "id": "SfqaqSxHJcSQ",
        "outputId": "5706697f-03c1-432b-b965-64dfcadaf92d"
      },
      "outputs": [
        {
          "name": "stdout",
          "output_type": "stream",
          "text": [
            "<class 'pandas.core.frame.DataFrame'>\n",
            "RangeIndex: 3 entries, 0 to 2\n",
            "Data columns (total 2 columns):\n",
            " #   Column  Non-Null Count  Dtype \n",
            "---  ------  --------------  ----- \n",
            " 0   Name    3 non-null      object\n",
            " 1   Age     3 non-null      int64 \n",
            "dtypes: int64(1), object(1)\n",
            "memory usage: 180.0+ bytes\n",
            "None\n"
          ]
        }
      ],
      "source": [
        "print (df.info())"
      ]
    },
    {
      "cell_type": "code",
      "execution_count": 6,
      "metadata": {
        "colab": {
          "base_uri": "https://localhost:8080/"
        },
        "id": "l3qwC3KRJzbf",
        "outputId": "1e11847d-0580-4e56-a0a8-35c5f8692fac"
      },
      "outputs": [
        {
          "name": "stdout",
          "output_type": "stream",
          "text": [
            "0      Alice\n",
            "1        Bob\n",
            "2    Charlie\n",
            "Name: Name, dtype: object\n"
          ]
        }
      ],
      "source": [
        "print(df['Name'])"
      ]
    },
    {
      "cell_type": "code",
      "execution_count": 7,
      "metadata": {
        "colab": {
          "base_uri": "https://localhost:8080/"
        },
        "id": "8whXhABwKDqb",
        "outputId": "60c0b13b-028e-4bd1-ab2b-26f55c805eb6"
      },
      "outputs": [
        {
          "name": "stdout",
          "output_type": "stream",
          "text": [
            "Name    Charlie\n",
            "Age          35\n",
            "Name: 2, dtype: object\n"
          ]
        }
      ],
      "source": [
        "print(df.iloc[2]) # iloc stands for integer location"
      ]
    },
    {
      "cell_type": "code",
      "execution_count": 8,
      "metadata": {
        "colab": {
          "base_uri": "https://localhost:8080/"
        },
        "id": "QZbTmWGRKMZd",
        "outputId": "1302075d-358c-4b23-92e6-6d1262c31048"
      },
      "outputs": [
        {
          "name": "stdout",
          "output_type": "stream",
          "text": [
            "      Name  Age\n",
            "2  Charlie   35\n"
          ]
        }
      ],
      "source": [
        "print(df[df['Age'] > 25])"
      ]
    },
    {
      "cell_type": "code",
      "execution_count": 9,
      "metadata": {
        "id": "vh6yuF4sKlKI"
      },
      "outputs": [],
      "source": [
        "df = df. fillna (0) \n",
        "# Replace missing values with o\n",
        "df = df. dropna () # Remove rows with missing values"
      ]
    },
    {
      "cell_type": "code",
      "execution_count": null,
      "metadata": {
        "colab": {
          "base_uri": "https://localhost:8080/"
        },
        "id": "hx0axysmLez-",
        "outputId": "7976970b-d6b3-446c-f900-549dac76ca52"
      },
      "outputs": [],
      "source": []
    },
    {
      "cell_type": "code",
      "execution_count": 10,
      "metadata": {
        "id": "8xV4XpaiLiU9"
      },
      "outputs": [],
      "source": [
        "df = df. rename (columns={ 'Name': 'Full Name'})"
      ]
    },
    {
      "cell_type": "code",
      "execution_count": 11,
      "metadata": {
        "id": "tHmfZRJuL3MA"
      },
      "outputs": [],
      "source": [
        "df = df. sort_values ('Age', ascending=True)"
      ]
    },
    {
      "cell_type": "code",
      "execution_count": 12,
      "metadata": {
        "colab": {
          "base_uri": "https://localhost:8080/"
        },
        "id": "qwzNPbRuL8ef",
        "outputId": "9bca0fea-bd21-4217-a07a-7e9f0b77493e"
      },
      "outputs": [
        {
          "name": "stdout",
          "output_type": "stream",
          "text": [
            "  Full Name  Age\n",
            "1       Bob    0\n",
            "0     Alice   25\n",
            "2   Charlie   35\n"
          ]
        }
      ],
      "source": [
        "print(df)"
      ]
    },
    {
      "cell_type": "code",
      "execution_count": 13,
      "metadata": {
        "id": "HYfVCepfL-Us"
      },
      "outputs": [],
      "source": [
        "df = df. sort_values ('Age', ascending=True)"
      ]
    },
    {
      "cell_type": "code",
      "execution_count": 14,
      "metadata": {
        "colab": {
          "base_uri": "https://localhost:8080/"
        },
        "id": "UahxxWgBMG7-",
        "outputId": "988468a1-a0ef-4899-e61b-dc51021861de"
      },
      "outputs": [
        {
          "name": "stdout",
          "output_type": "stream",
          "text": [
            "  Full Name  Age\n",
            "1       Bob    0\n",
            "0     Alice   25\n",
            "2   Charlie   35\n"
          ]
        }
      ],
      "source": [
        "print(df)"
      ]
    },
    {
      "cell_type": "code",
      "execution_count": 15,
      "metadata": {
        "id": "WXqjsv2_MIIA"
      },
      "outputs": [],
      "source": [
        "df['Salary'] = [50000,60000, 70000]"
      ]
    },
    {
      "cell_type": "code",
      "execution_count": 16,
      "metadata": {
        "colab": {
          "base_uri": "https://localhost:8080/"
        },
        "id": "lBl3phQdMOdz",
        "outputId": "7fe17ba4-095a-4654-e8c5-2559ffec3247"
      },
      "outputs": [
        {
          "name": "stdout",
          "output_type": "stream",
          "text": [
            "  Full Name  Age  Salary\n",
            "1       Bob    0   50000\n",
            "0     Alice   25   60000\n",
            "2   Charlie   35   70000\n"
          ]
        }
      ],
      "source": [
        "print(df)"
      ]
    },
    {
      "cell_type": "code",
      "execution_count": null,
      "metadata": {
        "colab": {
          "base_uri": "https://localhost:8080/"
        },
        "id": "w48HnklwMP9q",
        "outputId": "abfc9d39-394c-49c4-aeef-b0f97cef7a27"
      },
      "outputs": [
        {
          "name": "stdout",
          "output_type": "stream",
          "text": [
            "<pandas.core.groupby.generic.DataFrameGroupBy object at 0x120800440>\n"
          ]
        }
      ],
      "source": [
        "grouped = df.groupby('Age')\n",
        "print(grouped)"
      ]
    },
    {
      "cell_type": "code",
      "execution_count": 22,
      "metadata": {},
      "outputs": [
        {
          "name": "stdout",
          "output_type": "stream",
          "text": [
            "\n",
            "Age: 50000\n",
            "  Full Name  Age  Salary\n",
            "1       Bob    0   50000\n",
            "\n",
            "Age: 60000\n",
            "  Full Name  Age  Salary\n",
            "0     Alice   25   60000\n",
            "\n",
            "Age: 70000\n",
            "  Full Name  Age  Salary\n",
            "2   Charlie   35   70000\n"
          ]
        }
      ],
      "source": [
        "for Age, Salary in grouped:\n",
        "\tprint(f\"\\nAge: {Age}\")\n",
        "\tprint(Salary)"
      ]
    },
    {
      "cell_type": "code",
      "execution_count": null,
      "metadata": {
        "colab": {
          "base_uri": "https://localhost:8080/"
        },
        "id": "KDFpTAB8Mi9i",
        "outputId": "8574a2d6-10b2-453b-bd82-ffaf3a7f1bda"
      },
      "outputs": [
        {
          "name": "stdout",
          "output_type": "stream",
          "text": [
            "60\n",
            "20.0\n"
          ]
        }
      ],
      "source": [
        "print(df['Age'].sum())\n",
        "# Sum of ages\n",
        "print(df['Age'].mean())"
      ]
    },
    {
      "cell_type": "code",
      "execution_count": null,
      "metadata": {
        "colab": {
          "base_uri": "https://localhost:8080/"
        },
        "id": "SKYfAVBUNCmy",
        "outputId": "d5e1c4c8-92d8-42b4-ec2d-d4efeedd54f6"
      },
      "outputs": [
        {
          "name": "stdout",
          "output_type": "stream",
          "text": [
            "   ID   Name  Score\n",
            "0   1  Alice     85\n",
            "1   2    Bob     90\n"
          ]
        }
      ],
      "source": [
        "df1 = pd. DataFrame({'ID': [1, 2], 'Name' : ['Alice', 'Bob']})\n",
        "\n",
        "df2 = pd.DataFrame({'ID': [1, 2], 'Score': [85, 90]})\n",
        "\n",
        "merged_df = pd.merge(df1, df2, on='ID' )\n",
        "print (merged_df)"
      ]
    },
    {
      "cell_type": "code",
      "execution_count": null,
      "metadata": {
        "id": "vpWEhXd7N_ZT"
      },
      "outputs": [],
      "source": []
    }
  ],
  "metadata": {
    "colab": {
      "provenance": []
    },
    "kernelspec": {
      "display_name": "base",
      "language": "python",
      "name": "python3"
    },
    "language_info": {
      "codemirror_mode": {
        "name": "ipython",
        "version": 3
      },
      "file_extension": ".py",
      "mimetype": "text/x-python",
      "name": "python",
      "nbconvert_exporter": "python",
      "pygments_lexer": "ipython3",
      "version": "3.13.5"
    }
  },
  "nbformat": 4,
  "nbformat_minor": 0
}
